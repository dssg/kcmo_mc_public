{
 "cells": [
  {
   "cell_type": "markdown",
   "metadata": {},
   "source": [
    "## Record Counts"
   ]
  },
  {
   "cell_type": "code",
   "execution_count": null,
   "metadata": {},
   "outputs": [],
   "source": [
    "import numpy as np\n",
    "import pandas as pd\n",
    "import seaborn as sns\n",
    "import matplotlib.pylab as plt\n",
    "\n",
    "from sqlalchemy import create_engine"
   ]
  },
  {
   "cell_type": "code",
   "execution_count": null,
   "metadata": {},
   "outputs": [],
   "source": [
    "engine = create_engine(\"postgresql:///kcmo-mc\")\n",
    "db_conn = engine.connect()"
   ]
  },
  {
   "cell_type": "code",
   "execution_count": null,
   "metadata": {},
   "outputs": [],
   "source": [
    "# Counts of cases in dssgcharge\n",
    "s = \"\"\"\n",
    "select \n",
    "\tcount (*) as num_rows,\n",
    "\tcount(distinct case_num) as num_cases\n",
    "FROM raw_court.dssgcharge\n",
    "\"\"\"\n",
    "charge_counts = pd.read_sql(s, db_conn)\n",
    "charge_counts "
   ]
  },
  {
   "cell_type": "code",
   "execution_count": null,
   "metadata": {},
   "outputs": [],
   "source": [
    "# Counts of cases in dssgcharge6222022\n",
    "s = \"\"\"\n",
    "select \n",
    "\tcount (*) as num_rows,\n",
    "\tcount(distinct case_num) as num_cases\n",
    "FROM raw_court.dssgcharge6222022\n",
    "\"\"\"\n",
    "charge_counts = pd.read_sql(s, db_conn)\n",
    "charge_counts "
   ]
  },
  {
   "cell_type": "code",
   "execution_count": null,
   "metadata": {},
   "outputs": [],
   "source": [
    "# Counts of cases in charge_no_prob_fixed\n",
    "s = \"\"\"\n",
    "with all_recs as(\n",
    "   select rec_id\n",
    "   from raw_court.charge_no_prob_fixed\n",
    "\n",
    "   UNION\n",
    "\n",
    "   select rec_id \n",
    "   from  raw_court.charge_no_prob_b_fixed\n",
    ")\n",
    "select \n",
    "\tcount (*) as num_rows,\n",
    "\tcount(distinct rec_id) as num_records\n",
    "FROM all_recs\n",
    "\"\"\"\n",
    "rec_counts = pd.read_sql(s, db_conn)\n",
    "rec_counts "
   ]
  },
  {
   "cell_type": "code",
   "execution_count": null,
   "metadata": {},
   "outputs": [],
   "source": [
    "# Counts of cases in case_rec files\n",
    "s = \"\"\"\n",
    "with all_recs as (\n",
    "select rec_id, case_num \n",
    "from raw_court.caserec_fixed \n",
    "UNION \n",
    "SELECT rec_id, case_num \n",
    "FROM raw_court.caserec_b_fixed)\n",
    "select \n",
    "\tcount (*) as num_rows,\n",
    "\tcount(distinct all_recs.rec_id) as num_recs,\n",
    "\tcount(distinct all_recs.case_num) as num_cases,\n",
    "\tcount(distinct d.case_num) as num_charge_probations\n",
    "FROM all_recs \n",
    "LEFT JOIN\n",
    "raw_court.dssgcharge d on all_recs.case_num = d.case_num ;\n",
    "\"\"\"\n",
    "case_rec_counts = pd.read_sql(s, db_conn)\n",
    "case_rec_counts "
   ]
  },
  {
   "cell_type": "code",
   "execution_count": null,
   "metadata": {},
   "outputs": [],
   "source": [
    "# Counts of cases in case_cont files\n",
    "s = \"\"\"\n",
    "with all_conts as (\n",
    "select rec_id\n",
    "from raw_court.casecont_a_fixed \n",
    "UNION \n",
    "SELECT rec_id\n",
    "FROM raw_court.casecont_b_fixed)\n",
    "select \n",
    "\tcount (*) as num_rows,\n",
    "\tcount(distinct all_conts.rec_id) as num_recs\n",
    "FROM all_conts\n",
    "\"\"\"\n",
    "case_cont_counts = pd.read_sql(s, db_conn)\n",
    "case_cont_counts "
   ]
  },
  {
   "cell_type": "code",
   "execution_count": null,
   "metadata": {},
   "outputs": [],
   "source": [
    "# Counts of cases in dssgname\n",
    "s = \"\"\"\n",
    "select \n",
    "\tcount (*) as num_rows,\n",
    "\tcount(distinct case_num) as num_cases\n",
    "FROM raw_court.dssgname\n",
    "\"\"\"\n",
    "case_counts = pd.read_sql(s, db_conn)\n",
    "case_counts "
   ]
  },
  {
   "cell_type": "code",
   "execution_count": null,
   "metadata": {},
   "outputs": [],
   "source": [
    "# Counts of cases in dssgname_noprob_a+b\n",
    "s = \"\"\"\n",
    "with all_cases as(\n",
    "   select case_num\n",
    "   from raw_court.dssgnamenoprob_a\n",
    "\n",
    "   UNION\n",
    "\n",
    "   select case_num\n",
    "   from  raw_court.dssgnamenoprob_b\n",
    ")\n",
    "select \n",
    "\tcount (*) as num_rows,\n",
    "\tcount(distinct case_num) as num_cases\n",
    "FROM all_cases\n",
    "\"\"\"\n",
    "case_counts = pd.read_sql(s, db_conn)\n",
    "case_counts "
   ]
  },
  {
   "cell_type": "code",
   "execution_count": null,
   "metadata": {},
   "outputs": [],
   "source": [
    "#Check if we have entries in charges for all cases in case_recs\n",
    "s = \"\"\"\n",
    "WITH all_recs AS (\n",
    "    SELECT rec_id, case_num \n",
    "    FROM raw_court.caserec_fixed \n",
    "    UNION \n",
    "    SELECT rec_id, case_num \n",
    "    FROM raw_court.caserec_b_fixed\n",
    "    ),\n",
    "all_charges AS(\n",
    "    SELECT rec_id \n",
    "   FROM raw_court.charge_no_prob_fixed\n",
    "   UNION\n",
    "   SELECT rec_id \n",
    "   FROM  raw_court.charge_no_prob_b_fixed\n",
    ")\n",
    "SELECT count(distinct all_recs.rec_id)\n",
    "    FROM all_recs\n",
    "    INNER JOIN\n",
    "    all_charges ON all_recs.rec_id = all_charges.rec_id;\n",
    "\"\"\"\n",
    "case_rec_counts = pd.read_sql(s, db_conn)\n",
    "case_rec_counts "
   ]
  },
  {
   "cell_type": "code",
   "execution_count": null,
   "metadata": {},
   "outputs": [],
   "source": [
    "#Check if we have entries in charges for all cases in case_recs\n",
    "s = \"\"\"\n",
    "WITH all_recs AS (\n",
    "    SELECT rec_id, case_num \n",
    "    FROM raw_court.caserec_fixed \n",
    "    UNION \n",
    "    SELECT rec_id, case_num \n",
    "    FROM raw_court.caserec_b_fixed\n",
    "    )\n",
    "SELECT * FROM all_recs;\n",
    "\"\"\"\n",
    "all_recs = pd.read_sql(s, db_conn)\n",
    "\n",
    "s2 = \"\"\"\n",
    "WITH no_prob_charges AS(\n",
    "    SELECT rec_id \n",
    "   FROM raw_court.charge_no_prob_fixed\n",
    "   UNION\n",
    "   SELECT rec_id \n",
    "   FROM raw_court.charge_no_prob_b_fixed\n",
    ")\n",
    "SELECT * from no_prob_charges\n",
    "\"\"\"\n",
    "\n",
    "s3 = \"\"\"\n",
    "SELECT case_num \n",
    "FROM raw_court.dssgcharge;\n",
    "\"\"\"\n",
    "\n",
    "\n",
    "all_recs = pd.read_sql(s, db_conn)\n",
    "no_prob_charges = pd.read_sql(s2,db_conn)\n",
    "prob_charges = pd.read_sql(s3,db_conn)\n",
    "\n",
    "all_recs_set = set(all_recs['rec_id'])\n",
    "no_prob_charges_set = set(no_prob_charges['rec_id'])\n",
    "prob_charge_set = set(prob_charges['case_num'])\n",
    "recs_cases_set = set(all_recs['case_num'])"
   ]
  },
  {
   "cell_type": "code",
   "execution_count": null,
   "metadata": {},
   "outputs": [],
   "source": [
    "print(\"number of total records:\", len(all_recs_set.union(no_prob_charges_set)))\n",
    "print(\"number of shared records no prob:\", len(all_recs_set.intersection(no_prob_charges_set)))\n",
    "print (\"number of records only in case_recs:\", len(all_recs_set.difference(no_prob_charges_set)))\n",
    "print (\"number of records only in no_prob charges:\", len(no_prob_charges_set.difference(all_recs_set)))\n",
    "print(\"number of shared cases in records and dssgcharge: \", len(recs_cases_set.intersection(prob_charge_set)))"
   ]
  }
 ],
 "metadata": {
  "kernelspec": {
   "display_name": "Python 3.10.4 ('.venv': venv)",
   "language": "python",
   "name": "python3"
  },
  "language_info": {
   "codemirror_mode": {
    "name": "ipython",
    "version": 3
   },
   "file_extension": ".py",
   "mimetype": "text/x-python",
   "name": "python",
   "nbconvert_exporter": "python",
   "pygments_lexer": "ipython3",
   "version": "3.10.4"
  },
  "vscode": {
   "interpreter": {
    "hash": "167ecea97b6cee78543450b0b9c999fce57adc24f032573ce6fc535d8cc7c5c9"
   }
  }
 },
 "nbformat": 4,
 "nbformat_minor": 2
}
