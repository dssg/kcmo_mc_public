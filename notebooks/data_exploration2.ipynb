{
 "cells": [
  {
   "cell_type": "code",
   "execution_count": null,
   "metadata": {},
   "outputs": [],
   "source": [
    "import numpy as np\n",
    "import pandas as pd\n",
    "import seaborn as sns\n",
    "import matplotlib.pylab as plt\n",
    "\n",
    "from sqlalchemy import create_engine"
   ]
  },
  {
   "cell_type": "code",
   "execution_count": null,
   "metadata": {},
   "outputs": [],
   "source": [
    "engine = create_engine(\"postgresql:///kcmo-mc\")\n",
    "db_conn = engine.connect()"
   ]
  },
  {
   "cell_type": "markdown",
   "metadata": {},
   "source": [
    "#### Race"
   ]
  },
  {
   "cell_type": "markdown",
   "metadata": {},
   "source": [
    "Racial breakdown of the ~57K individuals"
   ]
  },
  {
   "cell_type": "code",
   "execution_count": null,
   "metadata": {},
   "outputs": [],
   "source": [
    "r1 = \"\"\"\n",
    "with demog as (\n",
    "    select \n",
    "        last_name, \n",
    "        first_name, \n",
    "        dob, \n",
    "        sex \n",
    "    from raw_court.dssgname \n",
    "    group by last_name, first_name, dob, sex\n",
    ")\n",
    "select \n",
    "    sex, \n",
    "    count(*) \n",
    "from demog \n",
    "group by sex;\n",
    "\"\"\"\n",
    "pd.read_sql(r1, db_conn)"
   ]
  },
  {
   "cell_type": "markdown",
   "metadata": {},
   "source": [
    "Num cases by racial group"
   ]
  },
  {
   "cell_type": "code",
   "execution_count": null,
   "metadata": {},
   "outputs": [],
   "source": [
    "r = \"\"\"\n",
    "select \n",
    "    race, \n",
    "    count(case_num) \n",
    "from raw_court.dssgname \n",
    "group by race \n",
    "order by count(*); \n",
    "\"\"\"\n",
    "pd.read_sql(r, db_conn)"
   ]
  },
  {
   "cell_type": "markdown",
   "metadata": {},
   "source": [
    "#### Gender\n",
    "gender breakdown of the ~57K individuals"
   ]
  },
  {
   "cell_type": "code",
   "execution_count": null,
   "metadata": {},
   "outputs": [],
   "source": [
    "g = \"\"\"\n",
    "with demog as (\n",
    "    select \n",
    "        last_name, \n",
    "        first_name, \n",
    "        dob, \n",
    "        sex \n",
    "    from raw_court.dssgname \n",
    "    group by last_name, first_name, dob,  sex\n",
    ")\n",
    "select \n",
    "    sex, \n",
    "    count(*) \n",
    "from demog \n",
    "group by sex;\n",
    "\"\"\"\n",
    "pd.read_sql(g, db_conn)"
   ]
  },
  {
   "cell_type": "code",
   "execution_count": null,
   "metadata": {},
   "outputs": [],
   "source": [
    "Num cases by sex"
   ]
  },
  {
   "cell_type": "code",
   "execution_count": null,
   "metadata": {},
   "outputs": [],
   "source": [
    "g1 = \"\"\"\n",
    "select \n",
    "    sex, \n",
    "    count(case_num) \n",
    "from raw_court.dssgname \n",
    "group by sex \n",
    "order by count(*); \n",
    "\"\"\"\n",
    "pd.read_sql(g1, db_conn)"
   ]
  },
  {
   "cell_type": "markdown",
   "metadata": {},
   "source": [
    "### Zipcodes"
   ]
  },
  {
   "cell_type": "markdown",
   "metadata": {},
   "source": [
    "How many zipcodes associated with each individual?"
   ]
  },
  {
   "cell_type": "code",
   "execution_count": null,
   "metadata": {},
   "outputs": [],
   "source": [
    "q4 = \"\"\"\n",
    "with zipcase as (\n",
    "    select \n",
    "        last_name, \n",
    "        first_name, \n",
    "        dob, \n",
    "        rcd.case_num, \n",
    "        zipcode \n",
    "    from raw_court.dssgname rcd\n",
    "    inner join raw_court.dssgaddress6222022 rcda \n",
    "    on rcda.case_num = rcd.case_num\n",
    "), \n",
    "demog as (\n",
    "    select \n",
    "        last_name, \n",
    "        first_name, \n",
    "        dob, \n",
    "        zipcode \n",
    "    from zipcase \n",
    "    group by last_name, first_name, dob, zipcode\n",
    ")\n",
    "select \n",
    "    last_name, \n",
    "    first_name, \n",
    "    dob, \n",
    "    count(distinct substring(zipcode, 1, 5)) as k \n",
    "from demog \n",
    "group by last_name, first_name, dob \n",
    "order by k desc;\n",
    "\"\"\"\n",
    "q4case = pd.read_sql(q4, db_conn)\n",
    "q4case"
   ]
  },
  {
   "cell_type": "code",
   "execution_count": null,
   "metadata": {},
   "outputs": [],
   "source": [
    "sns.histplot(data=q4case, x=\"k\")\n",
    "# Vast majority of people have only 1-2 zipcodes associated with them.\n",
    "# The max number of zipcodes any single individual has is 12."
   ]
  },
  {
   "cell_type": "code",
   "execution_count": null,
   "metadata": {},
   "outputs": [],
   "source": [
    "sns.histplot(data=q4case[q4case.k >= 6], x=\"k\")"
   ]
  },
  {
   "cell_type": "markdown",
   "metadata": {},
   "source": [
    "How many zipcodes in KCMO vs. not?"
   ]
  },
  {
   "cell_type": "code",
   "execution_count": null,
   "metadata": {},
   "outputs": [],
   "source": [
    "#-- how many zipcodes fall in KCMO (71440) vs. not (18036)\n",
    "z2 = \"\"\"\n",
    "with zipcase as (\n",
    "    select \n",
    "        last_name, \n",
    "        first_name, \n",
    "        dob, \n",
    "        rcd.case_num, \n",
    "        zipcode \n",
    "    from raw_court.dssgname rcd\n",
    "    inner join raw_court.dssgaddress6222022 rcda \n",
    "    on rcda.case_num = rcd.case_num\n",
    "), \n",
    "demog as (\n",
    "    select \n",
    "        last_name, \n",
    "        first_name, \n",
    "        dob, \n",
    "        zipcode \n",
    "    from zipcase \n",
    "    group by last_name, first_name, dob, zipcode\n",
    "),\n",
    "kc as (\n",
    "    select \n",
    "        case when substring(zipcode, 1, 2) = '64' then 1 else 0 end as kcmo \n",
    "    from demog\n",
    ")\n",
    "select \n",
    "    kcmo, \n",
    "    count(*) \n",
    "from kc \n",
    "group by kcmo;\n",
    "\"\"\"\n",
    "pd.read_sql(z2, db_conn)"
   ]
  },
  {
   "cell_type": "markdown",
   "metadata": {},
   "source": [
    "Num distinct cases by zip codes"
   ]
  },
  {
   "cell_type": "code",
   "execution_count": null,
   "metadata": {},
   "outputs": [],
   "source": [
    "#--counts of zip codes, extract first 5 digits, limit to top 15 most commonly occurring\n",
    "z1 = \"\"\"\n",
    "with zipprob as (\n",
    "    select \n",
    "        last_name, \n",
    "        first_name, \n",
    "        dob, \n",
    "        race, \n",
    "        rcd.case_num, \n",
    "        substring(zipcode, 1, 5) as zip \n",
    "    from raw_court.dssgname rcd \n",
    "    inner join raw_court.dssgaddress6222022 rcda \n",
    "    on rcda.case_num = rcd.case_num\n",
    ")\n",
    "select \n",
    "    zip, \n",
    "    count(distinct case_num) \n",
    "from zipprob \n",
    "group by zip \n",
    "order by count(*) \n",
    "desc limit 15;\n",
    "\"\"\"\n",
    "pd.read_sql(z1, db_conn)"
   ]
  },
  {
   "cell_type": "markdown",
   "metadata": {},
   "source": [
    "#### Num indv. of certain races in each zipcode\n",
    "---neighborhood racial percentages using census data can be compared with this to see if disparate impact"
   ]
  },
  {
   "cell_type": "code",
   "execution_count": null,
   "metadata": {},
   "outputs": [],
   "source": [
    "q5 = \"\"\"\n",
    "with zipprob as (\n",
    "    select \n",
    "    last_name, \n",
    "    first_name, \n",
    "    dob, \n",
    "    race, \n",
    "    rcd.case_num, \n",
    "    substring(zipcode, 1, 5) as zip \n",
    "    from raw_court.dssgname rcd \n",
    "    inner join raw_court.dssgaddress6222022 rcda \n",
    "    on rcda.case_num = rcd.case_num\n",
    ")\n",
    "select \n",
    "    zip, \n",
    "    race, \n",
    "    count (*) \n",
    "from zipprob \n",
    "group by zip, race \n",
    "order by count(*) desc;\n",
    "\"\"\"\n",
    "pd.read_sql(q5, db_conn)"
   ]
  },
  {
   "cell_type": "markdown",
   "metadata": {},
   "source": [
    "#### In each zipcode, "
   ]
  },
  {
   "cell_type": "code",
   "execution_count": null,
   "metadata": {},
   "outputs": [],
   "source": [
    "#--zipcodes first 5 digits grouped by sex\n",
    "q6 = \"\"\"\n",
    "with zipprob as (\n",
    "    select \n",
    "        last_name, \n",
    "        first_name, \n",
    "        dob, \n",
    "        sex, \n",
    "        rcd.case_num, \n",
    "        substring(zipcode, 1, 5) as zip \n",
    "    from raw_court.dssgname rcd \n",
    "    inner join raw_court.dssgaddress6222022 rcda \n",
    "    on rcda.case_num = rcd.case_num)\n",
    "select \n",
    "    zip, \n",
    "    sex, \n",
    "    count(*) \n",
    "from zipprob \n",
    "group by zip, sex \n",
    "order by count(*) desc;\n",
    "\"\"\"\n",
    "pd.read_sql(q6, db_conn)"
   ]
  },
  {
   "cell_type": "markdown",
   "metadata": {},
   "source": [
    "### How many probations (probation terms) each year?"
   ]
  },
  {
   "cell_type": "code",
   "execution_count": null,
   "metadata": {},
   "outputs": [],
   "source": [
    "#count_all: number of probation terms starting in each year (adds up to 173930),\n",
    "#count_distinct_cases: number of probation terms starting in each year associated with \n",
    "# distinct case numbers (adds up to 115642). If we were to group by start_year, case_num\n",
    "# the number of cases across the 10 years would add up to 114,820. \n",
    "q7 = \"\"\"\n",
    "select \n",
    "    extract(year from start_dttm::timestamp::date) as start_year,\n",
    "    count(*) as count_all, \n",
    "    count(distinct case_num) as count_distinct_cases\n",
    "from raw_court.dssgc_ordv6222022 \n",
    "group by start_year; \n",
    "\"\"\"\n",
    "pd.read_sql(q7, db_conn)"
   ]
  },
  {
   "cell_type": "code",
   "execution_count": null,
   "metadata": {},
   "outputs": [],
   "source": [
    "#-- number of probation terms with a start date in each year, grouped by defendants.\n",
    "# adds up to ~79k. Unique indv. may have multiple probation terms, hence doesn't add up to 57K\n",
    "q8 = \"\"\"\n",
    "with ordv_name as (\n",
    "    select * \n",
    "    from raw_court.dssgc_ordv6222022 do2  \n",
    "    inner join raw_court.dssgname n \n",
    "    on do2.case_num = n.case_num\n",
    "),\n",
    "ordv_name2 as (\n",
    "    select \n",
    "        last_name, \n",
    "        first_name, \n",
    "        dob, \n",
    "        start_dttm \n",
    "    from ordv_name \n",
    "    group by last_name, first_name, dob, start_dttm)\n",
    "select \n",
    "    extract(year from start_dttm::timestamp::date) as start_year, \n",
    "    count(*)\n",
    "from ordv_name2 \n",
    "group by start_year \n",
    "order by start_year;\n",
    "\"\"\"\n",
    "pd.read_sql(q8, db_conn)"
   ]
  },
  {
   "cell_type": "markdown",
   "metadata": {},
   "source": [
    "## Which probation terms were most common in each year?"
   ]
  },
  {
   "cell_type": "code",
   "execution_count": null,
   "metadata": {},
   "outputs": [],
   "source": [
    "q9 = \"\"\"\n",
    "select \n",
    "    extract(year from start_dttm::timestamp::date) as start_year, \n",
    "    prob_code, \n",
    "    count(*) as count\n",
    "from raw_court.dssgc_ordv6222022 do2 \n",
    "group by start_year, prob_code \n",
    "order by count \n",
    "desc limit 30;\n",
    "\"\"\"\n",
    "pd.read_sql(q9, db_conn)\n",
    "#--most common is PROB for most years, followed by:\n",
    "#-- DNDMV stands for DO NOT DRIVE A MOTOR VEHICLE UNLESS LICENSED AND INSURED\n",
    "#-- DNOOFF Do Not Obtain Any Similar Offenses\n",
    "#-- CMSR20\tCommunity Service-20 hours\n",
    "#-- DIP4HR\tDriver Improvement-4 hour"
   ]
  },
  {
   "cell_type": "code",
   "execution_count": null,
   "metadata": {},
   "outputs": [],
   "source": [
    "q10 = \"\"\"\n",
    "select \n",
    "    extract(year from start_dttm::timestamp::date) as start_year, \n",
    "    prob_code, \n",
    "    count(*) as count\n",
    "from raw_court.dssgc_ordv6222022 do2 \n",
    "group by start_year, prob_code \n",
    "order by start_year, prob_code;\n",
    "\"\"\"\n",
    "pd.read_sql(q10, db_conn)"
   ]
  },
  {
   "cell_type": "markdown",
   "metadata": {},
   "source": [
    "## How many cases per individual?"
   ]
  },
  {
   "cell_type": "code",
   "execution_count": null,
   "metadata": {},
   "outputs": [],
   "source": [
    "# group by unique individuals and count distinct cases for each indv.\n",
    "q1 = \"\"\"\n",
    "select \n",
    "    count(distinct case_num) as num_cases\n",
    "from raw_court.dssgname \n",
    "group by last_name, first_name, dob\n",
    "order by num_cases desc;\n",
    "\"\"\"\n",
    "cases = pd.read_sql(q1, db_conn)\n",
    "cases"
   ]
  },
  {
   "cell_type": "code",
   "execution_count": null,
   "metadata": {},
   "outputs": [],
   "source": [
    "sns.distplot(cases.num_cases, color=\"purple\", bins=30, kde=False)"
   ]
  },
  {
   "cell_type": "markdown",
   "metadata": {},
   "source": [
    "The majority of defendants have less than 5-6 cases, but goes up to 39 for one individual. "
   ]
  },
  {
   "cell_type": "code",
   "execution_count": null,
   "metadata": {},
   "outputs": [],
   "source": [
    "#-- How many dispositions each year?\n",
    "q3 = \"\"\"\n",
    "with cases as (\n",
    "    select * \n",
    "    from raw_court.dssgc_ordv6222022 do2\n",
    "    inner join raw_court.dssgcharge d \n",
    "    on do2.case_num = d.case_num\n",
    ")\n",
    "select \n",
    "    count(*), \n",
    "    extract(year from disp_date::timestamp::date) as disp_year \n",
    "from cases \n",
    "group by disp_year \n",
    "order by disp_year desc;\n",
    "\"\"\"\n",
    "numdispyears = pd.read_sql(q3, db_conn)\n",
    "numdispyears"
   ]
  },
  {
   "cell_type": "code",
   "execution_count": null,
   "metadata": {},
   "outputs": [],
   "source": [
    "# yearly number of dispositions\n",
    "yearsplot = sns.barplot(data = numdispyears, x = \"disp_year\", y = \"count\")\n",
    "yearsplot.set_xticklabels(yearsplot.get_xticklabels(), rotation = 45)\n",
    "yearsplot"
   ]
  },
  {
   "cell_type": "markdown",
   "metadata": {},
   "source": [
    "2015 and 2019 had the highest numbers of dispositions. Significant drop in 2020, 21 due to Covid."
   ]
  },
  {
   "cell_type": "code",
   "execution_count": null,
   "metadata": {},
   "outputs": [],
   "source": []
  },
  {
   "cell_type": "markdown",
   "metadata": {},
   "source": [
    "### Dispositions"
   ]
  },
  {
   "cell_type": "code",
   "execution_count": null,
   "metadata": {},
   "outputs": [],
   "source": [
    "#--Disposition codes distribution 2 ROW\n",
    "disp = \"\"\"\n",
    "with cases as (\n",
    "    select * \n",
    "    from raw_court.dssgchrg_prob6222022 dp \n",
    "    inner join raw_court.codes_fixed cf \n",
    "    on dp.disp_code = cf.code\n",
    "    where code_type = 'OSCAIMCD')\n",
    "select \n",
    "    disp_code, \n",
    "    code_desc, \n",
    "    count(distinct case_num) \n",
    "from cases \n",
    "group by disp_code, code_desc \n",
    "order by COUNT(*) desc;\n",
    "\"\"\"\n",
    "pd.read_sql(disp, db_conn)"
   ]
  },
  {
   "cell_type": "markdown",
   "metadata": {},
   "source": [
    "### Pleas"
   ]
  },
  {
   "cell_type": "code",
   "execution_count": null,
   "metadata": {},
   "outputs": [],
   "source": [
    "p1 = \"\"\"\n",
    "with cases as (\n",
    "    select * \n",
    "    from raw_court.dssgcharge dc\n",
    "    inner join raw_court.codes_fixed cf \n",
    "    on dc.plea = cf.code\n",
    "    where code_type = 'PLEA')\n",
    "select \n",
    "    plea, \n",
    "    code_desc, \n",
    "    count(distinct case_num) \n",
    "from cases\n",
    "group by plea, code_desc \n",
    "order by count(*) desc;\n",
    "\"\"\"\n",
    "pd.read_sql(p1, db_conn)"
   ]
  },
  {
   "cell_type": "markdown",
   "metadata": {},
   "source": [
    "### SIS/SES and other types"
   ]
  },
  {
   "cell_type": "code",
   "execution_count": null,
   "metadata": {},
   "outputs": [],
   "source": [
    "# count probation terms - SIS/SES combinations, with description of codes\n",
    "# where clause and inner join on subset of codes_fixed to only display relavant rows\n",
    "sent_prob = \"\"\"\n",
    "with cases as (\n",
    "    select * \n",
    "    from raw_court.dssgc_ordv6222022 do2\n",
    "    inner join raw_court.dssgcharge d\n",
    "    on do2.case_num = d.case_num\n",
    "), \n",
    "sis_ses as (\n",
    "    select \n",
    "        prob_code, \n",
    "        sent_exec_code, \n",
    "        count(*) as numcases \n",
    "    from cases \n",
    "    group by prob_code, sent_exec_code\n",
    "),\n",
    "codes as (\n",
    "    select \n",
    "        code_type, \n",
    "        code, \n",
    "        code_desc \n",
    "    from raw_court.codes_fixed \n",
    "    group by code_type, code, code_desc\n",
    ")\n",
    "select \n",
    "    prob_code, \n",
    "    sent_exec_code, \n",
    "    numcases, \n",
    "    code_desc \n",
    "from sis_ses \n",
    "inner join codes \n",
    "on sis_ses.prob_code = codes.code \n",
    "where code_type = 'PROBCNDS' \n",
    "order by numcases \n",
    "desc limit 15;\n",
    "\"\"\"\n",
    "pd.read_sql(sent_prob, db_conn)"
   ]
  },
  {
   "cell_type": "code",
   "execution_count": null,
   "metadata": {},
   "outputs": [],
   "source": [
    "s1 = \"\"\"\n",
    "with chrg as (\n",
    "    select * \n",
    "    from raw_court.dssgcharge do3 \n",
    "    inner join raw_court.codes_fixed cf \n",
    "    on cf.code = do3.sent_exec_code\n",
    ")\n",
    "select \n",
    "    sent_exec_code, \n",
    "    count(*), \n",
    "    code_desc from chrg\n",
    "group by sent_exec_code, code_desc \n",
    "order by count(*) desc;\n",
    "\"\"\"\n",
    "pd.read_sql(s1, db_conn) ### needs to be updated using CODE_TYPE from codes_fixed to only have one row per code"
   ]
  },
  {
   "cell_type": "code",
   "execution_count": null,
   "metadata": {},
   "outputs": [],
   "source": [
    "#Counts of cases by SIS/SES and prob codes\n",
    "s2 = \"\"\"\n",
    "with cases as (\n",
    "    select * \n",
    "    from raw_court.dssgc_ordv6222022 do2\n",
    "    inner join raw_court.dssgcharge d \n",
    "    on do2.case_num=d.case_num\n",
    ")\n",
    "select \n",
    "    sent_exec_code, \n",
    "    prob_code, \n",
    "    count(*)\n",
    "from cases\n",
    "group by sent_exec_code, prob_code \n",
    "order by count(*) desc;\n",
    "\"\"\"\n",
    "cases_sis_ses = pd.read_sql(s2, db_conn)\n",
    "cases_sis_ses"
   ]
  },
  {
   "cell_type": "code",
   "execution_count": null,
   "metadata": {},
   "outputs": [],
   "source": [
    "#-- How many dispositions each year?\n",
    "q_sent = \"\"\"\n",
    "with sent as (select \n",
    "\t sent_exec_code, \n",
    "\t extract(year from disp_date::timestamp::date) as start_year\n",
    "\t--code_desc,\n",
    "from raw_court.dssgcharge d \n",
    "inner join raw_court.codes_fixed cf \n",
    "on d.sent_exec_code = cf.code)\n",
    "select \n",
    "\tsent_exec_code, \n",
    "\tstart_year, \n",
    "\tcount(*) from sent \n",
    "where start_year > '2011' \n",
    "group by start_year, sent_exec_code \n",
    "order by start_year, sent_exec_code\n",
    "\"\"\"\n",
    "sent1 = pd.read_sql(q_sent, db_conn)\n",
    "sent1"
   ]
  },
  {
   "cell_type": "code",
   "execution_count": null,
   "metadata": {},
   "outputs": [],
   "source": [
    "# yearly dist. of sentence type\n",
    "s_pl = sns.barplot(data = sent1, x = \"start_year\", y = \"count\", hue=\"sent_exec_code\")\n",
    "s_pl.set_xticklabels(s_pl.get_xticklabels(), rotation = 45)"
   ]
  },
  {
   "cell_type": "code",
   "execution_count": null,
   "metadata": {},
   "outputs": [],
   "source": [
    "s3 = \"\"\"\n",
    "with j as (\n",
    "    select \n",
    "        id.dssg_id,\n",
    "        d.case_num, \n",
    "        sent_exec_code,\n",
    "        disp_date\n",
    "    from clean.dispositions d\n",
    "    inner join clean.id_with_cases id\n",
    "    on d.case_num = id.case_num\n",
    "    where disp_date > '2011-12-31'\n",
    ")\n",
    "select \n",
    "    sent_exec_code, \n",
    "    count(distinct dssg_id) counts \n",
    "from j\n",
    "group by sent_exec_code \n",
    "order by counts desc;\n",
    "\"\"\"\n",
    "pd.read_sql(s3, db_conn)"
   ]
  },
  {
   "cell_type": "code",
   "execution_count": null,
   "metadata": {},
   "outputs": [],
   "source": [
    "s3b = \"\"\"\n",
    "with j as (\n",
    "    select \n",
    "        id.dssg_id,\n",
    "        d.case_num, \n",
    "        sent_exec_code,\n",
    "        disp_date\n",
    "    from clean.dispositions d\n",
    "    inner join clean.id_with_cases id\n",
    "    on d.case_num = id.case_num\n",
    "    where disp_date > '2011-12-31'\n",
    ")\n",
    "select \n",
    "    sent_exec_code, \n",
    "    count(distinct dssg_id) counts \n",
    "from j\n",
    "group by sent_exec_code \n",
    "order by counts desc;\n",
    "\"\"\"\n",
    "pd.read_sql(s3b, db_conn)"
   ]
  },
  {
   "cell_type": "code",
   "execution_count": null,
   "metadata": {},
   "outputs": [],
   "source": [
    "s4 = \"\"\"\n",
    "with j as (\n",
    "    select \n",
    "        disp_date,\n",
    "        id.dssg_id,\n",
    "        d.case_num, \n",
    "        sent_exec_code,\n",
    "        extract(year from disp_date::timestamp::date) as disp_year \n",
    "    from clean.dispositions d\n",
    "    inner join clean.id_with_cases id\n",
    "    on d.case_num = id.case_num\n",
    ")\n",
    "select \n",
    "    disp_year, \n",
    "    count(distinct case_num) as distinct_cases, \n",
    "    count(distinct dssg_id) as distinct_indv\n",
    "from j\n",
    "where sent_exec_code = 'SIS' \n",
    "and disp_date > '2011-12-31'\n",
    "group by disp_year\n",
    "order by disp_year desc; \n",
    "\"\"\"\n",
    "sis_per_year_uniqueid = pd.read_sql(s4, db_conn)\n",
    "sis_per_year_uniqueid"
   ]
  },
  {
   "cell_type": "code",
   "execution_count": null,
   "metadata": {},
   "outputs": [],
   "source": [
    "total = \"\"\" \n",
    "select \n",
    "    count (distinct dssg_id) \n",
    "from clean.id_with_cases\n",
    "\"\"\"\n",
    "pd.read_sql(total, db_conn)"
   ]
  },
  {
   "cell_type": "code",
   "execution_count": null,
   "metadata": {},
   "outputs": [],
   "source": [
    "q_SIS_2012 = \"\"\" \n",
    "with cases as (\n",
    "select \n",
    "    person_id,\n",
    "    disp_date,\n",
    "    sent_exec_code,\n",
    "    case_num\n",
    "from clean.dispositions\n",
    "where sent_exec_code = 'SIS'\n",
    "and disp_date > '2011-12-31'\n",
    ")\n",
    "select \n",
    "    count(distinct person_id) as distinct_indv,\n",
    "    count(distinct case_num) as distinct_cases\n",
    "from cases\n",
    "\"\"\"\n",
    "pd.read_sql(q_SIS_2012, db_conn) \n",
    "# 47104 unique individuals with SIS cases with disp dates beginning in 2012"
   ]
  },
  {
   "cell_type": "code",
   "execution_count": null,
   "metadata": {},
   "outputs": [],
   "source": [
    "q_probs_sis = \"\"\" \n",
    "with cases as (\n",
    "select \n",
    "    person_id,\n",
    "    disp_date,\n",
    "    sent_exec_code,\n",
    "    case_num\n",
    "from clean.dispositions\n",
    "where sent_exec_code = 'SIS'\n",
    "and disp_date > '2011-12-31'\n",
    "),\n",
    "probs as (\n",
    "select \n",
    "    cases.*, \n",
    "    final_action, \n",
    "    prob_code \n",
    "from cases\n",
    "left join raw_court.dssgc_ordv6222022 ov\n",
    "on ov.case_num = cases.case_num\n",
    "), \n",
    "wcodes as (\n",
    "    select * from probs\n",
    "    left join raw_court.codes_fixed cf\n",
    "    on probs.prob_code = cf.code\n",
    "    where code_type = 'PROBCNDS'\n",
    ")\n",
    "select\n",
    "    prob_code,\n",
    "    code_desc,\n",
    "    count(distinct case_num),\n",
    "    round(count(distinct case_num)/74961.0, 2) as pr\n",
    "from wcodes\n",
    "group by prob_code, code_desc\n",
    "order by count desc \n",
    "limit 30;\n",
    "\"\"\"\n",
    "probs_sis = pd.read_sql(q_probs_sis, db_conn) \n",
    "probs_sis\n",
    "#--most common is PROB for most years, followed by:\n",
    "#-- DNDMV stands for DO NOT DRIVE A MOTOR VEHICLE UNLESS LICENSED AND INSURED\n",
    "#-- DNOOFF Do Not Obtain Any Similar Offenses\n",
    "#-- CMSR20\tCommunity Service-20 hours\n",
    "#-- DIP4HR\tDriver Improvement-4 hour"
   ]
  },
  {
   "cell_type": "code",
   "execution_count": null,
   "metadata": {},
   "outputs": [],
   "source": [
    " probs_sis['pr'].sum() \n",
    "# makes sense that it doesn't add to 1 as cases receive multiple probation terms"
   ]
  },
  {
   "cell_type": "code",
   "execution_count": null,
   "metadata": {},
   "outputs": [],
   "source": [
    "distinct_cases=sns.barplot(data = sis_per_year_uniqueid, x = \"disp_year\", y = \"distinct_cases\")\n",
    "distinct_cases.set_xticklabels(distinct_cases.get_xticklabels(), rotation = 45)\n",
    "distinct_cases.set_xlabel(\"disposition year\")\n",
    "distinct_cases.set_ylabel(\"count\")\n",
    "distinct_cases.set_title(\"Number of distinct cases falling under SIS categorization by year\")\n",
    "distinct_cases"
   ]
  },
  {
   "cell_type": "code",
   "execution_count": null,
   "metadata": {},
   "outputs": [],
   "source": [
    "distinct_indv=sns.barplot(data = sis_per_year_uniqueid, x = \"disp_year\", y = \"distinct_indv\")\n",
    "distinct_indv.set_xticklabels(distinct_cases.get_xticklabels(), rotation = 45)\n",
    "distinct_indv.set_xlabel(\"disposition year\")\n",
    "distinct_indv.set_ylabel(\"count\")\n",
    "distinct_indv.set_title(\"Number of individuals receiving SIS sentences by year\")\n",
    "distinct_indv"
   ]
  },
  {
   "cell_type": "code",
   "execution_count": null,
   "metadata": {},
   "outputs": [],
   "source": [
    "s5 = \"\"\"\n",
    "with yearly_sis as (\n",
    "    select \n",
    "        id.dssg_id,\n",
    "        d.case_num, \n",
    "       sent_exec_code,\n",
    "        disp_date\n",
    "    from clean.dispositions d\n",
    "    inner join clean.id_with_cases id\n",
    "    on d.case_num = id.case_num\n",
    "),\n",
    "outcomes as (\n",
    "    select yearly_sis.*, ord.final_action \n",
    "    from yearly_sis\n",
    "    inner join raw_court.dssgc_ordv6222022 ord\n",
    "    on yearly_sis.case_num = ord.case_num\n",
    ")\n",
    "select sent_exec_code, final_action, count (distinct dssg_id)\n",
    "from outcomes\n",
    "where sent_exec_code = 'SIS' or sent_exec_code = 'SES' \n",
    "and disp_date > '2011-12-31'\n",
    "group by sent_exec_code, final_action; \n",
    "\"\"\"\n",
    "sis_ses_compl_yearly_id = pd.read_sql(s5, db_conn)\n",
    "sis_ses_compl_yearly_id"
   ]
  },
  {
   "cell_type": "code",
   "execution_count": null,
   "metadata": {},
   "outputs": [],
   "source": [
    "s6 = \"\"\"\n",
    "with yearly_sis as (\n",
    "    select \n",
    "        id.dssg_id,\n",
    "        d.case_num, \n",
    "        sent_exec_code,\n",
    "        extract(year from disp_date::timestamp::date) as disp_year \n",
    "    from clean.dispositions d\n",
    "    inner join clean.id_with_cases id\n",
    "    on d.case_num = id.case_num\n",
    "),\n",
    "outcomes as (\n",
    "    select yearly_sis.*, ord.final_action \n",
    "    from yearly_sis\n",
    "    inner join raw_court.dssgc_ordv6222022 ord\n",
    "    on yearly_sis.case_num = ord.case_num\n",
    "), \n",
    "c as (\n",
    "    select \n",
    "        outcomes.*, cod.code_desc, cod.code_type\n",
    "    from outcomes\n",
    "    inner join raw_court.codes_fixed cod\n",
    "    on outcomes.final_action = cod.code\n",
    ")\n",
    "select \n",
    "    final_action,\n",
    "    code_desc, \n",
    "    count (distinct case_num), \n",
    "    round(count (distinct case_num)/74961.0, 2) as prop\n",
    "from c\n",
    "where sent_exec_code = 'SIS' \n",
    "and code_type = 'PROBFACT'\n",
    "--and disp_year > '2011'\n",
    "group by final_action, code_desc\n",
    "order by count desc; \n",
    "\"\"\"\n",
    "sis_compl_yearly_id = pd.read_sql(s6, db_conn)\n",
    "sis_compl_yearly_id\n"
   ]
  },
  {
   "cell_type": "code",
   "execution_count": null,
   "metadata": {},
   "outputs": [],
   "source": [
    "s7 = \"\"\"\n",
    "with yearly_sis as (\n",
    "    select \n",
    "        id.dssg_id,\n",
    "        d.case_num, \n",
    "        sent_exec_code,\n",
    "        extract(year from disp_date::timestamp::date) as disp_year \n",
    "    from clean.dispositions d\n",
    "    inner join clean.id_with_cases id\n",
    "    on d.case_num = id.case_num\n",
    "),\n",
    "outcomes as (\n",
    "    select yearly_sis.*, ord.final_action \n",
    "    from yearly_sis\n",
    "    inner join raw_court.dssgc_ordv6222022 ord\n",
    "    on yearly_sis.case_num = ord.case_num\n",
    "), \n",
    "c as (\n",
    "    select \n",
    "        outcomes.*, cod.code_desc, cod.code_type\n",
    "    from outcomes\n",
    "    inner join raw_court.codes_fixed cod\n",
    "    on outcomes.final_action = cod.code\n",
    ")\n",
    "select final_action, code_desc, count (distinct dssg_id), round(count (distinct dssg_id)/15255.0, 2) as prop\n",
    "from c\n",
    "where sent_exec_code = 'SES' \n",
    "and code_type = 'PROBFACT'\n",
    "group by final_action, code_desc\n",
    "order by count desc; \n",
    "\"\"\"\n",
    "ses_compl_yearly_id = pd.read_sql(s6, db_conn)\n",
    "ses_compl_yearly_id"
   ]
  },
  {
   "cell_type": "code",
   "execution_count": null,
   "metadata": {},
   "outputs": [],
   "source": [
    "# case when statement for sis with or w/o conditions\n",
    "# get proportions of completion"
   ]
  },
  {
   "cell_type": "code",
   "execution_count": null,
   "metadata": {},
   "outputs": [],
   "source": [
    "# Community service outcomes\n",
    "q_cs_outcomes = \"\"\" \n",
    "with cases as (\n",
    "select \n",
    "    person_id,\n",
    "    disp_date,\n",
    "    sent_exec_code,\n",
    "    case_num\n",
    "from clean.dispositions\n",
    "where sent_exec_code = 'SIS'\n",
    "and disp_date > '2011-12-31'\n",
    "),\n",
    "probs as (\n",
    "select \n",
    "    cases.*, \n",
    "    final_action, \n",
    "    prob_code \n",
    "from cases\n",
    "left join raw_court.dssgc_ordv6222022 ov\n",
    "on ov.case_num = cases.case_num\n",
    "), \n",
    "wcodes as (\n",
    "    select * from probs\n",
    "    left join raw_court.codes_fixed cf\n",
    "    on probs.prob_code = cf.code\n",
    "    where code_type = 'PROBCNDS'\n",
    ")\n",
    "select\n",
    "    prob_code as probation_code,\n",
    "    --code_desc as description,\n",
    "    final_action,\n",
    "    count(distinct case_num)\n",
    "from wcodes\n",
    "where prob_code ilike '%%CMS%%'\n",
    "and final_action= 'CMPL'\n",
    "group by prob_code, final_action\n",
    "order by prob_code, final_action\n",
    "\"\"\"\n",
    "cs_outcomes_by_code = pd.read_sql(q_cs_outcomes, db_conn)\n",
    "#cs_percent_complete = pd.DataFrame(round(cs_outcomes_by_code['count'] / cs_type_counts['count'].values,2))\n",
    "#cs_percent_complete.rename(columns={'count':'percent complete'}, inplace=True)\n",
    "#cs_percent_complete"
   ]
  }
 ],
 "metadata": {
  "kernelspec": {
   "display_name": "Python 3.10.4 ('.venv': venv)",
   "language": "python",
   "name": "python3"
  },
  "language_info": {
   "codemirror_mode": {
    "name": "ipython",
    "version": 3
   },
   "file_extension": ".py",
   "mimetype": "text/x-python",
   "name": "python",
   "nbconvert_exporter": "python",
   "pygments_lexer": "ipython3",
   "version": "3.10.4"
  },
  "vscode": {
   "interpreter": {
    "hash": "167ecea97b6cee78543450b0b9c999fce57adc24f032573ce6fc535d8cc7c5c9"
   }
  }
 },
 "nbformat": 4,
 "nbformat_minor": 2
}
