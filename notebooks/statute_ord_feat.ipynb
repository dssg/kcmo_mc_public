{
 "cells": [
  {
   "cell_type": "code",
   "execution_count": null,
   "metadata": {},
   "outputs": [],
   "source": [
    "import numpy as np\n",
    "import pandas as pd\n",
    "import seaborn as sns\n",
    "import matplotlib.pylab as plt\n",
    "\n",
    "from sqlalchemy import create_engine\n",
    "engine = create_engine(\"postgresql:///kcmo-mc\")\n",
    "#db_conn = engine.connect()\n"
   ]
  },
  {
   "cell_type": "code",
   "execution_count": null,
   "metadata": {},
   "outputs": [],
   "source": [
    "q_dat = \"\"\"\n",
    "with data as(\n",
    "select \n",
    "    c.*,\n",
    "    d.disp_date::date,\n",
    "    d.statute_ord \n",
    "from pipeline.cohort c\n",
    "left join clean.dispositions d\n",
    "on c.person_id = d.person_id\n",
    "    and c.cohort_date::date = d.disp_date::date\n",
    ")\n",
    "select \n",
    "    statute_ord,\n",
    "    count(*)\n",
    "from data\n",
    "group by statute_ord\n",
    "order by count desc;\n",
    "\"\"\"\n",
    "with engine.connect() as db_conn:\n",
    "    dat = pd.read_sql(q_dat, db_conn)\n",
    "counts_sum = dat['count'].values.sum()\n",
    "dat['proportion'] = dat['count']/counts_sum # counts_sum is 114024\n",
    "dat"
   ]
  },
  {
   "cell_type": "code",
   "execution_count": null,
   "metadata": {},
   "outputs": [],
   "source": []
  },
  {
   "cell_type": "code",
   "execution_count": null,
   "metadata": {},
   "outputs": [],
   "source": [
    "q_dat_disp = \"\"\"\n",
    "select \n",
    "    c.person_id, \n",
    "    disp_date::date,\n",
    "    d.statute_ord, \n",
    "    d.chrg_desc as charge_desc\n",
    "from pipeline.cohort c\n",
    "left join clean.dispositions d\n",
    "on c.person_id = d.person_id\n",
    "    and c.cohort_date::date = d.disp_date::date\n",
    "\"\"\"\n",
    "with engine.connect() as db_conn:\n",
    "    disp = pd.read_sql(q_dat_disp, db_conn)"
   ]
  },
  {
   "cell_type": "code",
   "execution_count": null,
   "metadata": {},
   "outputs": [],
   "source": [
    "# Create the list of top 20 statute ordinances \n",
    "top20 = list(dat['statute_ord'][dat.index < 20])\n",
    "\n",
    "# Populate a column statute_ord_top20 with the ordinances in the top 20, and code\n",
    "# all else as 'other'\n",
    "disp['statute_ord_top20'] = disp['statute_ord'].where(disp['statute_ord'].isin(top20))\n",
    "disp['statute_ord_top20'] = disp['statute_ord_top20'].fillna('other')\n",
    "top20.append('other') # append to the end of the top 20 list"
   ]
  },
  {
   "cell_type": "code",
   "execution_count": null,
   "metadata": {},
   "outputs": [],
   "source": [
    "# For each statute ordinance in the top 20 (21) list, create a column of 0-1s\n",
    "for statute in top20:\n",
    "    disp['{}'.format(statute)] = np.where(disp['statute_ord_top20']==statute, 1, 0)"
   ]
  },
  {
   "cell_type": "code",
   "execution_count": null,
   "metadata": {},
   "outputs": [],
   "source": [
    "keywords = {\n",
    "\"kw_minor\" : [\"minor\", \"age\", \"child\", \"chld\", \"school\", \"schl\"],\n",
    "\"kw_liquor\" : [\"alcohol\", \"alc\", \"liq\", \"liquor\", \"intox\", \"retail alco\"\n",
    "               \"intoxicated\", \"intoxication\"],\n",
    "\"kw_animal\" : [\"animal\", \"cat\", \"dog\", \"fowl\", \"livestock\", \"pigs\",\n",
    "                 \"anml\", 'neutering', 'breeding', 'pit bull'],\n",
    "\"kw_traffic\" : [\"improper passing\",\"impr pass cutting in\", \"incr speed\",\"drove left\", \n",
    "                \"no pass zone\",\"traffic\", \"speed\", \"sped\", \"yield\", \"stopsign\", \n",
    "                \"mph\", \"drove\", \"drvr\", \"driving\", \"MV\", \"operating mv\", \"mtr\", \"follow too close\",\n",
    "                \"chng lan\", \"rdce spd\", \"one way sign\", \"right turn\", \"pass veh\", \"drove slow\"\n",
    "                \"fail to stop\", \"fail to yld\", \"fail to yield\"],\n",
    "\"kw_speed\": [\"speed\", \"sped\", \"mph\", \"racing\", \"speeding\",  \"sped const zn\", \"careless drive\"],\n",
    "\"kw_trespass\" : [\"tresp\", \"tress\", \"trespass\", \"trespas\", \"tresspass\",\n",
    "                 \"tresspas\"],\n",
    "\"kw_housing\" : [\"landlord\", \"hous\", \"housing\", \"occupancy\", \"building\", \n",
    "                \"build code\", \"roof\", \"elec\", \"waste\", \"sewage\", \"sewer\", \n",
    "                \"structure\", \"trash\"],\n",
    "\"kw_weapon\" : [\"wpn\", \"weapon\", \"gun\", \"missile\", \"handgun\", \"explosive\", \"bomb\"],\n",
    "\"kw_stealing\": [\"larceny\", \"steal\", \"stealing\", \"theft\", \"stole\", \"stolen\"],\n",
    "\"kw_disturbance\": [\"peace\", \"loud\", \"noise\", \"music\", \"disturb\", \"disturbance\", \"nuisance\"],\n",
    "\"kw_compliance\": [\"impeding\", \"impede\",\"obstruct\", \"resist\", \"contempt\", \"interfere\", \"comply\",\n",
    "                  \"fail comp\", \"fail comply\", \"hinder\", \"failure to comply\", \"fail to correct\",\n",
    "                  \"order to leave nuis\", \"nuisance\"],\n",
    "\"kw_safety\": [\"inspect\", \"maintenance\", \"tamper\", \"open burning\", \"open flame\", \"freestand\",\n",
    "              \"incendiary burn\", \"unsafe\"],\n",
    "\"kw_prostitution\": [\"nude\", \"lewd\", \"indec\", \"indecent\", \"adlt entrtnmnt\", \"unclothed\", \n",
    "                    \"sex\", \"prost\", \"prostitution\"],\n",
    "\"kw_smoking\": [\"smoking\", \"smoke\", \"smok\", \"vape\", \"vaping\", \"tobacco\", \"individual cig\", \"poss substance\"]\n",
    "}\n",
    "\n",
    "for kw in keywords.keys():\n",
    "    disp[kw] = np.where([any(name in row.lower() for name in keywords[kw]) for row in disp['charge_desc']], 1,0)"
   ]
  },
  {
   "cell_type": "code",
   "execution_count": null,
   "metadata": {},
   "outputs": [],
   "source": [
    "disp.groupby(['person_id', 'disp_date']).count()\n",
    "disp"
   ]
  },
  {
   "cell_type": "code",
   "execution_count": null,
   "metadata": {},
   "outputs": [],
   "source": [
    "disp_grouped = pd.DataFrame(disp).groupby(['person_id', 'disp_date']).sum()\n",
    "disp_grouped = disp_grouped.reset_index()\n",
    "disp_grouped"
   ]
  },
  {
   "cell_type": "code",
   "execution_count": null,
   "metadata": {},
   "outputs": [],
   "source": [
    "disp['person_id'].value_counts()"
   ]
  }
 ],
 "metadata": {
  "kernelspec": {
   "display_name": "Python 3.10.4 ('.venv': venv)",
   "language": "python",
   "name": "python3"
  },
  "language_info": {
   "codemirror_mode": {
    "name": "ipython",
    "version": 3
   },
   "file_extension": ".py",
   "mimetype": "text/x-python",
   "name": "python",
   "nbconvert_exporter": "python",
   "pygments_lexer": "ipython3",
   "version": "3.10.4"
  },
  "vscode": {
   "interpreter": {
    "hash": "167ecea97b6cee78543450b0b9c999fce57adc24f032573ce6fc535d8cc7c5c9"
   }
  }
 },
 "nbformat": 4,
 "nbformat_minor": 2
}
